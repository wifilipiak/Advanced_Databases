{
 "cells": [
  {
   "cell_type": "code",
   "execution_count": 19,
   "metadata": {},
   "outputs": [
    {
     "name": "stdout",
     "output_type": "stream",
     "text": [
      "3.6742346141747673 + -4.4907311951024935i + 2.857738033247041j + 0.408248290463863k \n",
      "\n"
     ]
    }
   ],
   "source": [
    "import math\n",
    "class quaternion:\n",
    "    \n",
    "    def __init__(self,a,b,c,d):\n",
    "        self.a=a\n",
    "        self.b=b\n",
    "        self.c=c\n",
    "        self.d=d\n",
    "        self.norm = math.sqrt(a**2 + b**2 + c**2 + d**2)\n",
    "    \n",
    "    def __str__(self):\n",
    "        output = str(self.a)+' + '+str(self.b)+'i + '+ str(self.c)+'j + '+ str(self.d)+ 'k \\n' \n",
    "        return output\n",
    "    \n",
    "    def __add__(self, other):\n",
    "        return quaternion(self.a + other.a, self.b + other.b, self.c + other.c, self.d + other.d)\n",
    "    \n",
    "    def __sub__(self,other):\n",
    "        return quaternion(self.a - other.a, self.b - other.b, self.c - other.c, self.d - other.d) \n",
    "    \n",
    "    def __mul__(self, other):\n",
    "        mul_a = self.a*other.a - self.b*other.b - self.c*other.c - self.d*other.d\n",
    "        mul_b = self.b*other.a + self.a*other.b + self.c*other.d - self.d*other.c\n",
    "        mul_c = self.a*other.c - self.b*other.d + self.c*other.a + self.d*other.b\n",
    "        mul_d = self.a*other.d + self.b*other.c - self.c*other.b + self.d*other.a\n",
    "        return quaternion(mul_a,mul_b,mul_c,mul_d)\n",
    "    \n",
    "    def conjugate(self):\n",
    "        return quaternion(self.a, -self.b, -self.c, -self.d)\n",
    "    \n",
    "    def normalise(self):\n",
    "        if(self.norm != 0):\n",
    "            return quaternion(self.a/self.norm, self.b/self.norm, self.c/self.norm, self.d/self.norm )\n",
    "        else:\n",
    "            print('norm = 0')\n",
    "       \n",
    "    def __truediv__(self,other):\n",
    "        normalised_other = other.normalise()\n",
    "        inv_other = normalised_other.conjugate()\n",
    "        return self*inv_other\n",
    "        \n",
    "        \n",
    "obj1 = quaternion(3,2,5,2)\n",
    "obj2 = quaternion(1,1,0,2)\n",
    "obj3 = obj1/obj2\n",
    "print(obj3)\n",
    "        "
   ]
  },
  {
   "cell_type": "code",
   "execution_count": null,
   "metadata": {},
   "outputs": [],
   "source": []
  },
  {
   "cell_type": "code",
   "execution_count": null,
   "metadata": {},
   "outputs": [],
   "source": []
  }
 ],
 "metadata": {
  "kernelspec": {
   "display_name": "Python 3",
   "language": "python",
   "name": "python3"
  },
  "language_info": {
   "codemirror_mode": {
    "name": "ipython",
    "version": 3
   },
   "file_extension": ".py",
   "mimetype": "text/x-python",
   "name": "python",
   "nbconvert_exporter": "python",
   "pygments_lexer": "ipython3",
   "version": "3.7.4"
  }
 },
 "nbformat": 4,
 "nbformat_minor": 2
}
